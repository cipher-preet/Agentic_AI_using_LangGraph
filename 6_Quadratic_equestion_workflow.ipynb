{
 "cells": [
  {
   "cell_type": "code",
   "execution_count": 14,
   "id": "a6fc9070",
   "metadata": {},
   "outputs": [],
   "source": [
    "from langgraph.graph import StateGraph, START, END\n",
    "from typing import TypedDict, Annotated,Literal\n"
   ]
  },
  {
   "cell_type": "code",
   "execution_count": 15,
   "id": "6b77ac66",
   "metadata": {},
   "outputs": [],
   "source": [
    "class QuadState(TypedDict):\n",
    "    a:int\n",
    "    b:int\n",
    "    c:int\n",
    "    \n",
    "    equation:str\n",
    "    discriminant:float\n",
    "    result:str"
   ]
  },
  {
   "cell_type": "code",
   "execution_count": 16,
   "id": "0b3af6da",
   "metadata": {},
   "outputs": [],
   "source": [
    "def show_equation(state:QuadState):\n",
    "    equation = f'{state['a']}x2{state['b']}x{state['c']}'\n",
    "    return {\"equation\":equation}\n",
    "    \n",
    "\n",
    "\n",
    "\n",
    "def caluclate_discriminant(state:QuadState):\n",
    "    discriminant = state['b']**2 - (4*state['a']*state['c'])\n",
    "    return {'discriminant':discriminant}\n"
   ]
  },
  {
   "cell_type": "code",
   "execution_count": 21,
   "id": "d47bbd96",
   "metadata": {},
   "outputs": [],
   "source": [
    "def real_roots(state:QuadState):\n",
    "    root1 = (-state['b'] + state['discriminant']**0.5)/(2*state['a'])\n",
    "    root2 = (-state['b'] - state['discriminant']**0.5)/(2*state['a'])\n",
    "    \n",
    "    result = f'The roots are {root1} and {root2}' \n",
    "    return {'result':result}\n",
    "\n",
    "\n",
    "def repeated_roots(state: QuadState):\n",
    "\n",
    "    root = (-state[\"b\"])/(2*state[\"a\"])\n",
    "\n",
    "    result = f'Only repeating root is {root}'\n",
    "\n",
    "    return {'result': result}\n",
    "\n",
    "\n",
    "def no_real_roots(state: QuadState):\n",
    "\n",
    "    result = f'No real roots'\n",
    "\n",
    "    return {'result': result}\n",
    "\n",
    "\n",
    "\n",
    "def check_condition(state:QuadState) -> Literal[\"real_roots\", \"repeated_roots\", \"no_real_roots\"]:\n",
    "    if state['discriminant'] > 0:\n",
    "        return \"real_roots\"\n",
    "    elif state['discriminant'] == 0:\n",
    "        return \"repeated_roots\"\n",
    "    else:\n",
    "        return \"no_real_roots\"\n",
    "\n",
    "    "
   ]
  },
  {
   "cell_type": "code",
   "execution_count": 22,
   "id": "9a9ce068",
   "metadata": {},
   "outputs": [],
   "source": [
    "graph = StateGraph(QuadState)\n",
    "\n",
    "# createe nodes\n",
    "graph.add_node('show_equation',show_equation)\n",
    "graph.add_node('caluclate_discriminant',caluclate_discriminant)\n",
    "\n",
    "graph.add_node('real_roots',real_roots)\n",
    "graph.add_node('repeated_roots',repeated_roots)\n",
    "graph.add_node('no_real_roots',no_real_roots)\n",
    "\n",
    "# create Edges\n",
    "graph.add_edge(START,'show_equation')\n",
    "graph.add_edge('show_equation','caluclate_discriminant')\n",
    "graph.add_conditional_edges('caluclate_discriminant',check_condition)\n",
    "graph.add_edge('real_roots',END)\n",
    "graph.add_edge('repeated_roots',END)\n",
    "graph.add_edge('no_real_roots',END)\n",
    "\n",
    "# compile the graph\n",
    "\n",
    "workflow = graph.compile()"
   ]
  },
  {
   "cell_type": "code",
   "execution_count": 23,
   "id": "e9e1a287",
   "metadata": {},
   "outputs": [
    {
     "data": {
      "image/png": "[encoded data removed]",
      "text/plain": [
       "<langgraph.graph.state.CompiledStateGraph object at 0x0000025DA4317290>"
      ]
     },
     "execution_count": 23,
     "metadata": {},
     "output_type": "execute_result"
    }
   ],
   "source": [
    "workflow"
   ]
  },
  {
   "cell_type": "code",
   "execution_count": 26,
   "id": "3bdd0ddc",
   "metadata": {},
   "outputs": [
    {
     "data": {
      "text/plain": [
       "{'a': 2,\n",
       " 'b': 4,\n",
       " 'c': 2,\n",
       " 'equation': '2x24x2',\n",
       " 'discriminant': 0,\n",
       " 'result': 'Only repeating root is -1.0'}"
      ]
     },
     "execution_count": 26,
     "metadata": {},
     "output_type": "execute_result"
    }
   ],
   "source": [
    "initial_state = {\n",
    "    'a':2,\n",
    "    'b':4,\n",
    "    'c':2\n",
    "}\n",
    "\n",
    "workflow.invoke(initial_state)"
   ]
  }
 ],
 "metadata": {
  "kernelspec": {
   "display_name": "myvenv (3.12.4)",
   "language": "python",
   "name": "python3"
  },
  "language_info": {
   "codemirror_mode": {
    "name": "ipython",
    "version": 3
   },
   "file_extension": ".py",
   "mimetype": "text/x-python",
   "name": "python",
   "nbconvert_exporter": "python",
   "pygments_lexer": "ipython3",
   "version": "3.12.4"
  }
 },
 "nbformat": 4,
 "nbformat_minor": 5
}
