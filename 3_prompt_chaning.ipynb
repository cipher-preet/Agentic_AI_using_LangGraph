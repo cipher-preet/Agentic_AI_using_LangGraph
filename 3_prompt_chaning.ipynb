{
 "cells": [
  {
   "cell_type": "code",
   "execution_count": 2,
   "id": "e90349a5",
   "metadata": {},
   "outputs": [],
   "source": [
    "from langgraph.graph import StateGraph, START,END\n",
    "from langchain_openai import ChatOpenAI\n",
    "from typing import TypedDict\n",
    "from dotenv import load_dotenv"
   ]
  },
  {
   "cell_type": "code",
   "execution_count": 3,
   "id": "32c876db",
   "metadata": {},
   "outputs": [
    {
     "data": {
      "text/plain": [
       "True"
      ]
     },
     "execution_count": 3,
     "metadata": {},
     "output_type": "execute_result"
    }
   ],
   "source": [
    "load_dotenv()"
   ]
  },
  {
   "cell_type": "code",
   "execution_count": 4,
   "id": "d44d6e05",
   "metadata": {},
   "outputs": [],
   "source": [
    "model = ChatOpenAI()"
   ]
  },
  {
   "cell_type": "code",
   "execution_count": 5,
   "id": "c578279c",
   "metadata": {},
   "outputs": [],
   "source": [
    "class BlogState(TypedDict):\n",
    "    \n",
    "    title:str\n",
    "    outline:str\n",
    "    content:str"
   ]
  },
  {
   "cell_type": "code",
   "execution_count": 6,
   "id": "4f8ff2ba",
   "metadata": {},
   "outputs": [],
   "source": [
    "def create_outline(state:BlogState) -> BlogState:\n",
    "    \n",
    "    # fetch title\n",
    "    title = state['title']\n",
    "    \n",
    "    #call llm gen output\n",
    "    prompt = f'Generate a detailed output for a blog on the topic - {title}'\n",
    "    outline = model.invoke(prompt).content\n",
    "    \n",
    "    # update state\n",
    "    state['outline'] = outline\n",
    "    \n",
    "    return state"
   ]
  },
  {
   "cell_type": "code",
   "execution_count": 7,
   "id": "d339344c",
   "metadata": {},
   "outputs": [],
   "source": [
    "def create_blog(state:BlogState) -> BlogState:\n",
    "    \n",
    "    title = state['title']\n",
    "    outline = state['outline']\n",
    "    \n",
    "    prompt = f'write a detail blog on title - {title} using the following outline {outline}'\n",
    "    \n",
    "    content = model.invoke(prompt).content\n",
    "    \n",
    "    state['content'] = content\n",
    "    \n",
    "    return state"
   ]
  },
  {
   "cell_type": "code",
   "execution_count": 9,
   "id": "7f2e935e",
   "metadata": {},
   "outputs": [],
   "source": [
    "graph = StateGraph(BlogState)\n",
    "\n",
    "# add nodes\n",
    "graph.add_node('create_outline',create_outline)\n",
    "graph.add_node('create_blog',create_blog)\n",
    "\n",
    "# add edges\n",
    "graph.add_edge(START,'create_outline')\n",
    "graph.add_edge('create_outline','create_blog')\n",
    "graph.add_edge('create_blog',END)\n",
    "\n",
    "# compile the graph\n",
    "workflow = graph.compile()"
   ]
  },
  {
   "cell_type": "code",
   "execution_count": 11,
   "id": "13299251",
   "metadata": {},
   "outputs": [
    {
     "name": "stdout",
     "output_type": "stream",
     "text": [
      "{'title': 'Rise of AI in India', 'outline': 'Artificial Intelligence (AI) has been gaining traction in India in recent years, with a growing number of organizations and industries embracing this technology to drive innovation and efficiency. From healthcare to finance, AI is transforming the way businesses operate and the way people interact with technology.\\n\\nOne of the key areas where AI is making a significant impact in India is in healthcare. AI-powered solutions are being used to analyze medical data, diagnose diseases, and even assist in surgeries. For example, companies like Niramai Health Analytix are using AI to detect breast cancer at an early stage, which has the potential to save countless lives. Similarly, companies like SigTuple are using AI to analyze and diagnose medical images, helping doctors make faster and more accurate decisions.\\n\\nIn the finance sector, AI is helping banks and financial institutions streamline their operations and improve customer service. Chatbots powered by AI are being used to provide personalized assistance to customers, while AI algorithms are being used to detect and prevent fraud. Fintech companies like Paytm and ZestMoney are leveraging AI to provide innovative financial products and services to consumers.\\n\\nThe rise of AI in India has also led to the emergence of a vibrant startup ecosystem focused on AI technologies. Startups like Niki.ai, Haptik, and Manthan are developing AI-powered solutions for a wide range of industries, from e-commerce to retail to agriculture. These startups are not only driving innovation but also creating job opportunities for skilled AI professionals in the country.\\n\\nHowever, the rapid adoption of AI in India also raises concerns about privacy, security, and job displacement. As AI becomes more prevalent in our daily lives, there is a need for clear regulations and guidelines to ensure that these technologies are used ethically and responsibly. Additionally, there is a growing need for upskilling and reskilling programs to help workers adapt to the changing job market driven by AI and automation.\\n\\nOverall, the rise of AI in India presents both opportunities and challenges. It has the potential to revolutionize various industries and improve the quality of life for millions of people. But it also requires careful consideration and planning to ensure that the benefits of AI are shared equitably and that its potential risks are mitigated. As India continues to embrace AI, it is crucial that stakeholders work together to build a sustainable and inclusive AI ecosystem that benefits all.', 'content': \"Artificial Intelligence (AI) has been making waves in India in recent years, with its transformative potential being recognized across various sectors. The adoption of AI technologies in the country has been on the rise, bringing about a wave of innovation and efficiency in industries such as healthcare, finance, e-commerce, and more.\\n\\nIn healthcare, AI-powered solutions are revolutionizing the way medical data is analyzed, diseases are diagnosed, and surgeries are conducted. Companies like Niramai Health Analytix and SigTuple are at the forefront of this revolution, using AI algorithms to detect breast cancer at an early stage and analyze medical images with unprecedented accuracy. The impact of AI in healthcare extends beyond diagnosis and treatment, with the potential to improve patient outcomes and save lives.\\n\\nSimilarly, the finance sector in India has welcomed AI with open arms, leveraging the technology to enhance customer service, detect fraud, and streamline operations. Chatbots powered by AI are providing personalized assistance to customers, while AI algorithms are being used to identify suspicious activities and prevent financial fraud. Fintech companies like Paytm and ZestMoney are utilizing AI to develop innovative financial products and services that cater to the evolving needs of consumers.\\n\\nThe rise of AI in India has also given rise to a burgeoning startup ecosystem focused on developing AI solutions for a myriad of industries. Startups like Niki.ai, Haptik, and Manthan are paving the way for AI-driven innovation in e-commerce, retail, agriculture, and more. These startups are not only driving economic growth but also creating job opportunities for skilled professionals in the AI space, contributing to the country's digital transformation.\\n\\nDespite the numerous benefits that AI brings, its rapid adoption in India has raised concerns regarding privacy, security, and job displacement. As AI becomes increasingly integrated into everyday life, there is a pressing need for robust regulations and ethical guidelines to govern its usage. Additionally, upskilling and reskilling programs are crucial to help workers adapt to the changing job landscape driven by automation and AI.\\n\\nIn conclusion, the rise of AI in India presents a myriad of opportunities for growth and innovation, but it also comes with its own set of challenges. It is imperative for stakeholders in the public and private sectors to collaborate and ensure that the benefits of AI are equitably distributed and that its potential risks are mitigated. As India continues its AI journey, it is essential to build a sustainable and inclusive AI ecosystem that leverages the technology for the greater good of society.\"}\n"
     ]
    }
   ],
   "source": [
    "intial_state = {'title':'Rise of AI in India'}\n",
    "\n",
    "final_state = workflow.invoke(intial_state)\n",
    "\n",
    "print(final_state)"
   ]
  },
  {
   "cell_type": "code",
   "execution_count": 12,
   "id": "3ea44d18",
   "metadata": {},
   "outputs": [
    {
     "data": {
      "text/plain": [
       "'Artificial Intelligence (AI) has been gaining traction in India in recent years, with a growing number of organizations and industries embracing this technology to drive innovation and efficiency. From healthcare to finance, AI is transforming the way businesses operate and the way people interact with technology.\\n\\nOne of the key areas where AI is making a significant impact in India is in healthcare. AI-powered solutions are being used to analyze medical data, diagnose diseases, and even assist in surgeries. For example, companies like Niramai Health Analytix are using AI to detect breast cancer at an early stage, which has the potential to save countless lives. Similarly, companies like SigTuple are using AI to analyze and diagnose medical images, helping doctors make faster and more accurate decisions.\\n\\nIn the finance sector, AI is helping banks and financial institutions streamline their operations and improve customer service. Chatbots powered by AI are being used to provide personalized assistance to customers, while AI algorithms are being used to detect and prevent fraud. Fintech companies like Paytm and ZestMoney are leveraging AI to provide innovative financial products and services to consumers.\\n\\nThe rise of AI in India has also led to the emergence of a vibrant startup ecosystem focused on AI technologies. Startups like Niki.ai, Haptik, and Manthan are developing AI-powered solutions for a wide range of industries, from e-commerce to retail to agriculture. These startups are not only driving innovation but also creating job opportunities for skilled AI professionals in the country.\\n\\nHowever, the rapid adoption of AI in India also raises concerns about privacy, security, and job displacement. As AI becomes more prevalent in our daily lives, there is a need for clear regulations and guidelines to ensure that these technologies are used ethically and responsibly. Additionally, there is a growing need for upskilling and reskilling programs to help workers adapt to the changing job market driven by AI and automation.\\n\\nOverall, the rise of AI in India presents both opportunities and challenges. It has the potential to revolutionize various industries and improve the quality of life for millions of people. But it also requires careful consideration and planning to ensure that the benefits of AI are shared equitably and that its potential risks are mitigated. As India continues to embrace AI, it is crucial that stakeholders work together to build a sustainable and inclusive AI ecosystem that benefits all.'"
      ]
     },
     "execution_count": 12,
     "metadata": {},
     "output_type": "execute_result"
    }
   ],
   "source": [
    "final_state['outline']"
   ]
  },
  {
   "cell_type": "code",
   "execution_count": 13,
   "id": "cdfb04b6",
   "metadata": {},
   "outputs": [
    {
     "name": "stdout",
     "output_type": "stream",
     "text": [
      "Artificial Intelligence (AI) has been making waves in India in recent years, with its transformative potential being recognized across various sectors. The adoption of AI technologies in the country has been on the rise, bringing about a wave of innovation and efficiency in industries such as healthcare, finance, e-commerce, and more.\n",
      "\n",
      "In healthcare, AI-powered solutions are revolutionizing the way medical data is analyzed, diseases are diagnosed, and surgeries are conducted. Companies like Niramai Health Analytix and SigTuple are at the forefront of this revolution, using AI algorithms to detect breast cancer at an early stage and analyze medical images with unprecedented accuracy. The impact of AI in healthcare extends beyond diagnosis and treatment, with the potential to improve patient outcomes and save lives.\n",
      "\n",
      "Similarly, the finance sector in India has welcomed AI with open arms, leveraging the technology to enhance customer service, detect fraud, and streamline operations. Chatbots powered by AI are providing personalized assistance to customers, while AI algorithms are being used to identify suspicious activities and prevent financial fraud. Fintech companies like Paytm and ZestMoney are utilizing AI to develop innovative financial products and services that cater to the evolving needs of consumers.\n",
      "\n",
      "The rise of AI in India has also given rise to a burgeoning startup ecosystem focused on developing AI solutions for a myriad of industries. Startups like Niki.ai, Haptik, and Manthan are paving the way for AI-driven innovation in e-commerce, retail, agriculture, and more. These startups are not only driving economic growth but also creating job opportunities for skilled professionals in the AI space, contributing to the country's digital transformation.\n",
      "\n",
      "Despite the numerous benefits that AI brings, its rapid adoption in India has raised concerns regarding privacy, security, and job displacement. As AI becomes increasingly integrated into everyday life, there is a pressing need for robust regulations and ethical guidelines to govern its usage. Additionally, upskilling and reskilling programs are crucial to help workers adapt to the changing job landscape driven by automation and AI.\n",
      "\n",
      "In conclusion, the rise of AI in India presents a myriad of opportunities for growth and innovation, but it also comes with its own set of challenges. It is imperative for stakeholders in the public and private sectors to collaborate and ensure that the benefits of AI are equitably distributed and that its potential risks are mitigated. As India continues its AI journey, it is essential to build a sustainable and inclusive AI ecosystem that leverages the technology for the greater good of society.\n"
     ]
    }
   ],
   "source": [
    "print(final_state['content'])"
   ]
  },
  {
   "cell_type": "code",
   "execution_count": null,
   "id": "064068d3",
   "metadata": {},
   "outputs": [],
   "source": []
  }
 ],
 "metadata": {
  "kernelspec": {
   "display_name": "myvenv (3.12.4)",
   "language": "python",
   "name": "python3"
  },
  "language_info": {
   "codemirror_mode": {
    "name": "ipython",
    "version": 3
   },
   "file_extension": ".py",
   "mimetype": "text/x-python",
   "name": "python",
   "nbconvert_exporter": "python",
   "pygments_lexer": "ipython3",
   "version": "3.12.4"
  }
 },
 "nbformat": 4,
 "nbformat_minor": 5
}
